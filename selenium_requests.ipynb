{
 "cells": [
  {
   "cell_type": "code",
   "execution_count": 17,
   "metadata": {
    "collapsed": false,
    "deletable": true,
    "editable": true
   },
   "outputs": [
    {
     "name": "stdout",
     "output_type": "stream",
     "text": [
      "Finished loading libs.\n"
     ]
    }
   ],
   "source": [
    "from selenium.webdriver.common.by import By\n",
    "from selenium.webdriver.support.ui import WebDriverWait\n",
    "from selenium.webdriver.support import expected_conditions as EC\n",
    "from selenium import webdriver\n",
    "from selenium.webdriver.common.keys import Keys\n",
    "from selenium.webdriver.common.desired_capabilities import DesiredCapabilities\n",
    "import time\n",
    "import os\n",
    "\n",
    "import requests\n",
    "import shutil # high-level operations on files and collections of files\n",
    "from bs4 import BeautifulSoup\n",
    "from datetime import datetime\n",
    "\n",
    "print('Finished loading libs.')"
   ]
  },
  {
   "cell_type": "code",
   "execution_count": 2,
   "metadata": {
    "collapsed": false,
    "deletable": true,
    "editable": true
   },
   "outputs": [
    {
     "name": "stdout",
     "output_type": "stream",
     "text": [
      "https://download.apkpure.com/b/apk/Y29tLmZhY2Vib29rLm9yY2FfNzc4NjY5ODdfNGY0OWE5NjI?_fn=TWVzc2VuZ2VyIOKAkyBUZXh0IGFuZCBWaWRlbyBDaGF0IGZvciBGcmVlX3YxNDIuMC4wLjE4LjYzX2Fwa3B1cmUuY29tLmFwaw%3D%3D&k=0cecf975c8cf7e3382bbc4a5f66cd4fa5a05e733&as=2f6339417afc7957bbb1d43163b926355a0344ab&_p=Y29tLmZhY2Vib29rLm9yY2E%3D&c=1%7CCOMMUNICATION\n",
      "Done\n"
     ]
    }
   ],
   "source": [
    "PhantomJSPath = '~/software/phantomjs/bin/phantomjs'\n",
    "PhantomJSPath = os.path.expanduser(PhantomJSPath)\n",
    "url = 'https://apkpure.com/facebook-messenger/com.facebook.orca/download?from=category'\n",
    "\n",
    "dcap = dict(DesiredCapabilities.PHANTOMJS)\n",
    "dcap[\"phantomjs.page.settings.userAgent\"] = (\"Mozilla/5.0 (Macintosh; Intel Mac OS X 10_10_1) AppleWebKit/537.36 (KHTML, like Gecko) Chrome/38.0.2125.122 Safari/537.36\")\n",
    "\n",
    "\n",
    "driver = webdriver.PhantomJS(executable_path=PhantomJSPath, desired_capabilities=dcap, service_args=['--ignore-ssl-errors=true', '--ssl-protocol=any', '--web-security=false'])\n",
    "driver.set_window_size(1024, 768)\n",
    "\n",
    "\n",
    "driver.get(url)\n",
    "# Execute javascript.\n",
    "# driver.execute_script('document.getElementsByClassName(\"mp\")[0].style.background = \"green\"')\n",
    "\n",
    "# //*[@id=\"download_link\"]\n",
    "download_link = driver.find_element_by_xpath('//*[@id=\"download_link\"]')\n",
    "\n",
    "\n",
    "download_link.click()\n",
    "\n",
    "element = WebDriverWait(driver, 10).until(EC.presence_of_element_located((By.LINK_TEXT, \"click here\")))\n",
    "\n",
    "link = element.get_attribute('href')\n",
    "print(link)\n",
    "\n",
    "cookies = driver.get_cookies()\n",
    "\n",
    "s = requests.Session()\n",
    "for cookie in cookies:\n",
    "    s.cookies.set(cookie['name'], cookie['value'])\n",
    "\n",
    "r = s.get(link, stream=True)\n",
    "\n",
    "with open('./test.apk', 'wb') as f:\n",
    "    shutil.copyfileobj(r.raw, f)\n",
    "\n",
    "driver.save_screenshot('screen.png') \n",
    "driver.quit()\n",
    "\n",
    "print('Done')\n",
    "# Get html page source.\n",
    "# html = driver.page_source\n",
    "# print(html)"
   ]
  },
  {
   "cell_type": "code",
   "execution_count": 3,
   "metadata": {
    "collapsed": true,
    "deletable": true,
    "editable": true
   },
   "outputs": [],
   "source": [
    "#username_element = WebDriverWait(driver, 10).until(EC.presence_of_element_located((By.NAME, 'email')))"
   ]
  },
  {
   "cell_type": "code",
   "execution_count": 38,
   "metadata": {
    "collapsed": false,
    "deletable": true,
    "editable": true,
    "scrolled": true
   },
   "outputs": [
    {
     "name": "stdout",
     "output_type": "stream",
     "text": [
      "headers: {'Date': 'Wed, 15 Nov 2017 17:25:53 GMT', 'Content-Type': 'text/html; charset=UTF-8', 'Transfer-Encoding': 'chunked', 'Connection': 'close', 'Set-Cookie': '__cfduid=d605e9da2697ab5aae17bf9efd8b9387d1510766753; expires=Thu, 15-Nov-18 17:25:53 GMT; path=/; domain=.apkpure.com; HttpOnly', 'CF-Chl-Bypass': '1', 'Cache-Control': 'max-age=2', 'Expires': 'Wed, 15 Nov 2017 17:25:55 GMT', 'X-Frame-Options': 'SAMEORIGIN', 'Server': 'cloudflare-nginx', 'CF-RAY': '3be3e990ae345576-ORD', 'Content-Encoding': 'gzip'}\n",
      "content-type: 403\n",
      "CPU times: user 12 ms, sys: 0 ns, total: 12 ms\n",
      "Wall time: 100 ms\n"
     ]
    }
   ],
   "source": [
    "%%time\n",
    "headers = {'User-Agent': 'Mozilla/5.0 (Macintosh; Intel Mac OS X 10_10_1) AppleWebKit/537.36 (KHTML, like Gecko) Chrome/39.0.2171.95 Safari/537.36'}\n",
    "url = 'https://apkpure.com/app'\n",
    "session = requests.Session()\n",
    "session.headers.update(headers)\n",
    "\n",
    "r = session.get(url, stream=True)\n",
    "#print('headers: ' + (str(r.headers)))\n",
    "#print('content-type: ' + r.headers['content-type'])\n",
    "#print(r.text)\n",
    "#soup = BeautifulSoup(r.text, \"html.parser\")\n",
    "#download_link = soup.find(id = 'download_link')\n",
    "# with open('./requst_test.html', 'w') as f:\n",
    "#     #shutil.copyfileobj(r.raw, f)\n",
    "#     f.write(r.text)\n",
    "    \n",
    "#print(download_link)\n",
    "#print(download_link['href'])\n",
    "\n",
    "#r = session.get(download_link['href'], stream=True)\n",
    "print('headers: ' + (str(r.headers)))\n",
    "print('content-type: ' + str(r.status_code))\n",
    "#print('cookies:' + r.headers['cookie'])\n",
    "\n",
    "#with open('./request.apk', 'wb') as f:\n",
    "    #shutil.copyfileobj(r.raw, f)"
   ]
  },
  {
   "cell_type": "code",
   "execution_count": 19,
   "metadata": {
    "collapsed": false,
    "deletable": true,
    "editable": true
   },
   "outputs": [
    {
     "data": {
      "text/plain": [
       "'2017-11-11 20:53:35.874181'"
      ]
     },
     "execution_count": 19,
     "metadata": {},
     "output_type": "execute_result"
    }
   ],
   "source": [
    "str(datetime.now())"
   ]
  },
  {
   "cell_type": "code",
   "execution_count": 21,
   "metadata": {
    "collapsed": false,
    "deletable": true,
    "editable": true
   },
   "outputs": [],
   "source": [
    "import time\n",
    "now = time.time()\n",
    "\n",
    "later = time.time()\n",
    "difference = int(later - now)"
   ]
  },
  {
   "cell_type": "code",
   "execution_count": 22,
   "metadata": {
    "collapsed": false,
    "deletable": true,
    "editable": true
   },
   "outputs": [
    {
     "data": {
      "text/plain": [
       "0"
      ]
     },
     "execution_count": 22,
     "metadata": {},
     "output_type": "execute_result"
    }
   ],
   "source": [
    "difference"
   ]
  },
  {
   "cell_type": "code",
   "execution_count": 24,
   "metadata": {
    "collapsed": false,
    "deletable": true,
    "editable": true
   },
   "outputs": [],
   "source": [
    "a = 'https://d-01.winudf.com/b/apk/Y29tLmdyb3VuZGhvZy5tY3BlbWFzdGVyXzEwNDAxXzhlZWQzYjNj?_fn=TWFzdGVyIGZvciBNaW5lY3JhZnQgTGF1bmNoZXJfdjIuMS4yMF9hcGtwdXJlLmNvbS5hcGs&_p=Y29tLmdyb3VuZGhvZy5tY3BlbWFzdGVy&as=a9f4d74f74567e442caf24708a25a73a5a08e036&c=1%7CTOOLS&k=a5bead185e79127f967da508205b89585a0cb507'"
   ]
  },
  {
   "cell_type": "code",
   "execution_count": 25,
   "metadata": {
    "collapsed": true,
    "deletable": true,
    "editable": true
   },
   "outputs": [],
   "source": [
    "b = [a]"
   ]
  },
  {
   "cell_type": "code",
   "execution_count": 26,
   "metadata": {
    "collapsed": false,
    "deletable": true,
    "editable": true
   },
   "outputs": [
    {
     "data": {
      "text/plain": [
       "['https://d-01.winudf.com/b/apk/Y29tLmdyb3VuZGhvZy5tY3BlbWFzdGVyXzEwNDAxXzhlZWQzYjNj?_fn=TWFzdGVyIGZvciBNaW5lY3JhZnQgTGF1bmNoZXJfdjIuMS4yMF9hcGtwdXJlLmNvbS5hcGs&_p=Y29tLmdyb3VuZGhvZy5tY3BlbWFzdGVy&as=a9f4d74f74567e442caf24708a25a73a5a08e036&c=1%7CTOOLS&k=a5bead185e79127f967da508205b89585a0cb507']"
      ]
     },
     "execution_count": 26,
     "metadata": {},
     "output_type": "execute_result"
    }
   ],
   "source": [
    "b"
   ]
  },
  {
   "cell_type": "code",
   "execution_count": 27,
   "metadata": {
    "collapsed": false,
    "deletable": true,
    "editable": true
   },
   "outputs": [
    {
     "name": "stdout",
     "output_type": "stream",
     "text": [
      "<class 'bytes'>\n",
      "<class 'str'>\n"
     ]
    }
   ],
   "source": [
    "my_str = \"hello world\"\n",
    "my_str_as_bytes = str.encode(my_str)\n",
    "print(type(my_str_as_bytes)) # ensure it is byte representation\n",
    "my_decoded_str = my_str_as_bytes.decode()\n",
    "print(type(my_decoded_str)) # ensure it is string representation"
   ]
  },
  {
   "cell_type": "code",
   "execution_count": 28,
   "metadata": {
    "collapsed": true,
    "deletable": true,
    "editable": true
   },
   "outputs": [],
   "source": [
    "test = my_str.encode('utf-8')"
   ]
  },
  {
   "cell_type": "code",
   "execution_count": 29,
   "metadata": {
    "collapsed": false,
    "deletable": true,
    "editable": true
   },
   "outputs": [
    {
     "data": {
      "text/plain": [
       "bytes"
      ]
     },
     "execution_count": 29,
     "metadata": {},
     "output_type": "execute_result"
    }
   ],
   "source": [
    "type(test)"
   ]
  },
  {
   "cell_type": "code",
   "execution_count": 31,
   "metadata": {
    "collapsed": false,
    "deletable": true,
    "editable": true
   },
   "outputs": [
    {
     "name": "stdout",
     "output_type": "stream",
     "text": [
      "test?page=0\n",
      "test?page=1\n",
      "test?page=2\n",
      "test?page=3\n",
      "test?page=4\n"
     ]
    }
   ],
   "source": [
    "test = 'test'\n",
    "\n",
    "for i in range(5): \n",
    "    test1 = test + '?page=' + str(i)\n",
    "    print(test1)"
   ]
  },
  {
   "cell_type": "code",
   "execution_count": 32,
   "metadata": {
    "collapsed": false,
    "deletable": true,
    "editable": true
   },
   "outputs": [
    {
     "name": "stdout",
     "output_type": "stream",
     "text": [
      "alembic==0.9.1\r\n",
      "appdirs==1.4.3\r\n",
      "apturl==0.5.2\r\n",
      "beautifulsoup4==4.4.1\r\n",
      "bleach==2.0.0\r\n",
      "blinker==1.3\r\n",
      "Brlapi==0.6.4\r\n",
      "bs4==0.0.1\r\n",
      "chardet==2.3.0\r\n",
      "checkbox-support==0.22\r\n",
      "command-not-found==0.3\r\n",
      "cryptography==1.2.3\r\n",
      "cssselect==1.0.1\r\n",
      "cycler==0.10.0\r\n",
      "decorator==4.0.11\r\n",
      "defer==1.0.6\r\n",
      "entrypoints==0.2.2\r\n",
      "fail2ban==0.9.3\r\n",
      "feedparser==5.1.3\r\n",
      "guacamole==0.9.2\r\n",
      "html5lib==0.999999999\r\n",
      "httplib2==0.9.1\r\n",
      "idna==2.0\r\n",
      "ipykernel==4.5.2\r\n",
      "ipython==5.3.0\r\n",
      "ipython-genutils==0.1.0\r\n",
      "ipywidgets==6.0.0\r\n",
      "Jinja2==2.8\r\n",
      "jsonschema==2.6.0\r\n",
      "jupyter==1.0.0\r\n",
      "jupyter-client==5.0.0\r\n",
      "jupyter-console==5.1.0\r\n",
      "jupyter-core==4.3.0\r\n",
      "jupyterhub==0.7.2\r\n",
      "language-selector==0.1\r\n",
      "louis==2.6.4\r\n",
      "lxml==3.5.0\r\n",
      "Mako==1.0.3\r\n",
      "MarkupSafe==0.23\r\n",
      "matplotlib==2.0.0\r\n",
      "mistune==0.7.3\r\n",
      "nbconvert==5.1.1\r\n",
      "nbformat==4.3.0\r\n",
      "nltk==3.2.2\r\n",
      "notebook==4.4.1\r\n",
      "numpy==1.12.0\r\n",
      "oauthlib==1.0.3\r\n",
      "onboard==1.2.0\r\n",
      "packaging==16.8\r\n",
      "padme==1.1.1\r\n",
      "pamela==0.3.0\r\n",
      "pandas==0.19.2\r\n",
      "pandocfilters==1.4.1\r\n",
      "pexpect==4.0.1\r\n",
      "pickleshare==0.7.4\r\n",
      "Pillow==3.1.2\r\n",
      "plainbox==0.25\r\n",
      "prompt-toolkit==1.0.13\r\n",
      "protobuf==3.2.0\r\n",
      "ptyprocess==0.5\r\n",
      "pyasn1==0.1.9\r\n",
      "pycosat==0.6.1\r\n",
      "pycups==1.9.73\r\n",
      "pycurl==7.43.0\r\n",
      "Pygments==2.2.0\r\n",
      "pygobject==3.20.0\r\n",
      "pyinotify==0.9.6\r\n",
      "PyJWT==1.3.0\r\n",
      "pymongo==3.4.0\r\n",
      "pyparsing==2.2.0\r\n",
      "python-apt==1.1.0b1\r\n",
      "python-dateutil==2.6.0\r\n",
      "python-debian==0.1.27\r\n",
      "python-editor==1.0.3\r\n",
      "python-systemd==231\r\n",
      "pytz==2016.10\r\n",
      "pyxdg==0.25\r\n",
      "PyYAML==3.12\r\n",
      "pyzmq==16.0.2\r\n",
      "qtconsole==4.2.1\r\n",
      "reportlab==3.3.0\r\n",
      "requests==2.13.0\r\n",
      "ruamel.yaml==0.13.14\r\n",
      "scikit-learn==0.18.1\r\n",
      "scipy==0.18.1\r\n",
      "screen-resolution-extra==0.0.0\r\n",
      "seaborn==0.7.1\r\n",
      "sessioninstaller==0.0.0\r\n",
      "simplegeneric==0.8.1\r\n",
      "six==1.10.0\r\n",
      "sklearn==0.0\r\n",
      "SQLAlchemy==1.1.9\r\n",
      "ssh-import-id==5.5\r\n",
      "sudospawner==0.3.0\r\n",
      "system-service==0.3\r\n",
      "tensorflow-gpu==1.0.1\r\n",
      "terminado==0.6\r\n",
      "testpath==0.3\r\n",
      "Theano==0.9.0\r\n",
      "torch==0.2.0.post3\r\n",
      "torchvision==0.1.9\r\n",
      "tornado==4.4.2\r\n",
      "traitlets==4.3.2\r\n",
      "ubuntu-drivers-common==0.0.0\r\n",
      "ufw==0.35\r\n",
      "unattended-upgrades==0.1\r\n",
      "unity-scope-calculator==0.1\r\n",
      "unity-scope-chromiumbookmarks==0.1\r\n",
      "unity-scope-colourlovers==0.1\r\n",
      "unity-scope-devhelp==0.1\r\n",
      "unity-scope-firefoxbookmarks==0.1\r\n",
      "unity-scope-gdrive==0.7\r\n",
      "unity-scope-manpages==0.1\r\n",
      "unity-scope-openclipart==0.1\r\n",
      "unity-scope-texdoc==0.1\r\n",
      "unity-scope-tomboy==0.1\r\n",
      "unity-scope-virtualbox==0.1\r\n",
      "unity-scope-yelp==0.1\r\n",
      "unity-scope-zotero==0.1\r\n",
      "urllib3==1.13.1\r\n",
      "usb-creator==0.3.0\r\n",
      "wcwidth==0.1.7\r\n",
      "webencodings==0.5\r\n",
      "widgetsnbextension==2.0.0\r\n",
      "xdiagnose==3.8.4.1\r\n",
      "xkit==0.0.0\r\n",
      "XlsxWriter==0.7.3\r\n"
     ]
    }
   ],
   "source": [
    "!pip freeze"
   ]
  },
  {
   "cell_type": "code",
   "execution_count": null,
   "metadata": {
    "collapsed": true,
    "deletable": true,
    "editable": true
   },
   "outputs": [],
   "source": []
  }
 ],
 "metadata": {
  "kernelspec": {
   "display_name": "general",
   "language": "python",
   "name": "general"
  },
  "language_info": {
   "codemirror_mode": {
    "name": "ipython",
    "version": 3
   },
   "file_extension": ".py",
   "mimetype": "text/x-python",
   "name": "python",
   "nbconvert_exporter": "python",
   "pygments_lexer": "ipython3",
   "version": "3.6.2"
  }
 },
 "nbformat": 4,
 "nbformat_minor": 2
}
