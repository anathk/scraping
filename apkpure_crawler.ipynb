{
 "cells": [
  {
   "cell_type": "code",
   "execution_count": 50,
   "metadata": {
    "collapsed": true,
    "deletable": true,
    "editable": true
   },
   "outputs": [],
   "source": [
    "import requests\n",
    "import shutil # high-level operations on files and collections of files\n",
    "from bs4 import BeautifulSoup\n",
    "import lxml\n",
    "from datetime import datetime\n",
    "import hashlib\n"
   ]
  },
  {
   "cell_type": "code",
   "execution_count": 41,
   "metadata": {
    "collapsed": false,
    "deletable": true,
    "editable": true
   },
   "outputs": [
    {
     "name": "stdout",
     "output_type": "stream",
     "text": [
      "<!DOCTYPE html>\n",
      "<!--[if lt IE 7]> <html class=\"no-js ie6 oldie\" lang=\"en-US\"> <![endif]--><!--[if IE 7]>    <html class=\"no-js ie7 oldie\" lang=\"en-US\"> <![endif]--><!--[if IE 8]>    <html class=\"no-js ie8 oldie\" lang=\"en-US\"> <![endif]--><!--[if gt IE 8]><!--><html class=\"no-js\" lang=\"en-US\"> <!--<![endif]-->\n",
      "<head>\n",
      "<title>Attention Required! | Cloudflare</title>\n",
      "<meta id=\"captcha-bypass\" name=\"captcha-bypass\"/>\n",
      "<meta charset=\"utf-8\"/>\n",
      "<meta content=\"text/html; charset=utf-8\" http-equiv=\"Content-Type\"/>\n",
      "<meta content=\"IE=Edge,chrome=1\" http-equiv=\"X-UA-Compatible\"/>\n",
      "<meta content=\"noindex, nofollow\" name=\"robots\"/>\n",
      "<meta content=\"width=device-width,initial-scale=1,maximum-scale=1\" name=\"viewport\"/>\n",
      "<link href=\"/cdn-cgi/styles/cf.errors.css\" id=\"cf_styles-css\" media=\"screen,projection\" rel=\"stylesheet\" type=\"text/css\"/>\n",
      "<!--[if lt IE 9]><link rel=\"stylesheet\" id='cf_styles-ie-css' href=\"/cdn-cgi/styles/cf.errors.ie.css\" type=\"text/css\" media=\"screen,projection\" /><![endif]-->\n",
      "<style type=\"text/css\">body{margin:0;padding:0}</style>\n",
      "<!--[if lte IE 9]><script type=\"text/javascript\" src=\"/cdn-cgi/scripts/jquery.min.js\"></script><![endif]-->\n",
      "<!--[if gte IE 10]><!--><script src=\"/cdn-cgi/scripts/zepto.min.js\" type=\"text/javascript\"></script><!--<![endif]-->\n",
      "<script src=\"/cdn-cgi/scripts/cf.common.js\" type=\"text/javascript\"></script>\n",
      "</head>\n",
      "<body>\n",
      "<div id=\"cf-wrapper\">\n",
      "<div class=\"cf-alert cf-alert-error cf-cookie-error\" data-translate=\"enable_cookies\" id=\"cookie-alert\">Please enable cookies.</div>\n",
      "<div class=\"cf-error-details-wrapper\" id=\"cf-error-details\">\n",
      "<div class=\"cf-wrapper cf-header cf-error-overview\">\n",
      "<h1 data-translate=\"challenge_headline\">One more step</h1>\n",
      "<h2 class=\"cf-subheadline\"><span data-translate=\"complete_sec_check\">Please complete the security check to access</span> apkpure.com</h2>\n",
      "</div><!-- /.header -->\n",
      "<div class=\"cf-section cf-highlight cf-captcha-container\">\n",
      "<div class=\"cf-wrapper\">\n",
      "<div class=\"cf-columns two\">\n",
      "<div class=\"cf-column\">\n",
      "<div class=\"cf-highlight-inverse cf-form-stacked\">\n",
      "<form action=\"/cdn-cgi/l/chk_captcha\" class=\"challenge-form\" id=\"challenge-form\" method=\"get\">\n",
      "<script async=\"\" data-ray=\"3bdb1806a98c55e2\" data-sitekey=\"6LfBixYUAAAAABhdHynFUIMA_sa4s-XsJvnjtgB0\" data-type=\"normal\" src=\"/cdn-cgi/scripts/cf.challenge.js\" type=\"text/javascript\"></script>\n",
      "<div class=\"g-recaptcha\"></div>\n",
      "<noscript class=\"cf-captcha-info\" id=\"cf-captcha-bookmark\">\n",
      "<div><div style=\"width: 302px\">\n",
      "<div>\n",
      "<iframe frameborder=\"0\" scrolling=\"no\" src=\"https://www.google.com/recaptcha/api/fallback?k=6LfBixYUAAAAABhdHynFUIMA_sa4s-XsJvnjtgB0\" style=\"width: 302px; height:422px; border-style: none;\"></iframe>\n",
      "</div>\n",
      "<div style=\"width: 300px; border-style: none; bottom: 12px; left: 25px; margin: 0px; padding: 0px; right: 25px; background: #f9f9f9; border: 1px solid #c1c1c1; border-radius: 3px;\">\n",
      "<textarea class=\"g-recaptcha-response\" id=\"g-recaptcha-response\" name=\"g-recaptcha-response\" style=\"width: 250px; height: 40px; border: 1px solid #c1c1c1; margin: 10px 25px; padding: 0px; resize: none;\"></textarea>\n",
      "<input type=\"submit\" value=\"Submit\"/>\n",
      "</div>\n",
      "</div></div>\n",
      "</noscript>\n",
      "</form>\n",
      "</div>\n",
      "</div>\n",
      "<div class=\"cf-column\">\n",
      "<div class=\"cf-screenshot-container\">\n",
      "<span class=\"cf-no-screenshot\"></span>\n",
      "</div>\n",
      "</div>\n",
      "</div><!-- /.columns -->\n",
      "</div>\n",
      "</div><!-- /.captcha-container -->\n",
      "<div class=\"cf-section cf-wrapper\">\n",
      "<div class=\"cf-columns two\">\n",
      "<div class=\"cf-column\">\n",
      "<h2 data-translate=\"why_captcha_headline\">Why do I have to complete a CAPTCHA?</h2>\n",
      "<p data-translate=\"why_captcha_detail\">Completing the CAPTCHA proves you are a human and gives you temporary access to the web property.</p>\n",
      "</div>\n",
      "<div class=\"cf-column\">\n",
      "<h2 data-translate=\"resolve_captcha_headline\">What can I do to prevent this in the future?</h2>\n",
      "<p data-translate=\"resolve_captcha_antivirus\">If you are on a personal connection, like at home, you can run an anti-virus scan on your device to make sure it is not infected with malware.</p>\n",
      "<p data-translate=\"resolve_captcha_network\">If you are at an office or shared network, you can ask the network administrator to run a scan across the network looking for misconfigured or infected devices.</p>\n",
      "</div>\n",
      "</div>\n",
      "</div><!-- /.section -->\n",
      "<div class=\"cf-error-footer cf-wrapper\">\n",
      "<p>\n",
      "<span class=\"cf-footer-item\">Cloudflare Ray ID: <strong>3bdb1806a98c55e2</strong></span>\n",
      "<span class=\"cf-footer-separator\">•</span>\n",
      "<span class=\"cf-footer-item\"><span data-translate=\"your_ip\">Your IP</span>: 132.235.4.110</span>\n",
      "<span class=\"cf-footer-separator\">•</span>\n",
      "<span class=\"cf-footer-item\"><span data-translate=\"performance_security_by\">Performance &amp; security by</span> <a data-orig-proto=\"https\" data-orig-ref=\"www.cloudflare.com/5xx-error-landing?utm_source=error_footer\" id=\"brand_link\" target=\"_blank\">Cloudflare</a></span>\n",
      "</p>\n",
      "</div><!-- /.error-footer -->\n",
      "</div><!-- /#cf-error-details -->\n",
      "</div><!-- /#cf-wrapper -->\n",
      "<script type=\"text/javascript\">\n",
      "  window._cf_translation = {};\n",
      "  \n",
      "  \n",
      "</script>\n",
      "</body>\n",
      "</html>\n",
      "\n"
     ]
    }
   ],
   "source": [
    "headers = {'User-Agent': 'Mozilla/5.0 (Macintosh; Intel Mac OS X 10_10_1) AppleWebKit/537.36 (KHTML, like Gecko) Chrome/39.0.2171.95 Safari/537.36'}\n",
    "start_url = 'https://apkpure.com/productivity?page=100'\n",
    "\n",
    "session = requests.Session()\n",
    "session.headers.update(headers)\n",
    "r = session.get(start_url)\n",
    "soup = BeautifulSoup(r.text, \"lxml\")\n",
    "#page = html.fromstring(r.text)\n",
    "\n",
    "#category_links = soup.find('body > div.main > div.right.floatl > div > div.menu_list > div:nth-child(4) > ul > li:nth-child(1) > a')\n",
    "#print(page.xpath('/html/body/div[2]/div[2]/div/div[2]/div[2]/ul/li/a'))\n",
    "print(soup)\n"
   ]
  },
  {
   "cell_type": "code",
   "execution_count": 49,
   "metadata": {
    "collapsed": false
   },
   "outputs": [
    {
     "ename": "AttributeError",
     "evalue": "'list' object has no attribute 'extract'",
     "output_type": "error",
     "traceback": [
      "\u001b[0;31m---------------------------------------------------------------------------\u001b[0m",
      "\u001b[0;31mAttributeError\u001b[0m                            Traceback (most recent call last)",
      "\u001b[0;32m<ipython-input-49-acde9a374052>\u001b[0m in \u001b[0;36m<module>\u001b[0;34m()\u001b[0m\n\u001b[1;32m      1\u001b[0m \u001b[0mtext\u001b[0m \u001b[0;34m=\u001b[0m \u001b[0mr\u001b[0m\u001b[0;34m.\u001b[0m\u001b[0mtext\u001b[0m\u001b[0;34m\u001b[0m\u001b[0m\n\u001b[1;32m      2\u001b[0m \u001b[0mtext\u001b[0m \u001b[0;34m=\u001b[0m \u001b[0mhtml\u001b[0m\u001b[0;34m.\u001b[0m\u001b[0mfromstring\u001b[0m\u001b[0;34m(\u001b[0m\u001b[0mtext\u001b[0m\u001b[0;34m)\u001b[0m\u001b[0;34m\u001b[0m\u001b[0m\n\u001b[0;32m----> 3\u001b[0;31m \u001b[0mtext\u001b[0m\u001b[0;34m.\u001b[0m\u001b[0mxpath\u001b[0m\u001b[0;34m(\u001b[0m\u001b[0;34m'//body'\u001b[0m\u001b[0;34m)\u001b[0m\u001b[0;34m.\u001b[0m\u001b[0mextract\u001b[0m\u001b[0;34m(\u001b[0m\u001b[0;34m)\u001b[0m\u001b[0;34m\u001b[0m\u001b[0m\n\u001b[0m",
      "\u001b[0;31mAttributeError\u001b[0m: 'list' object has no attribute 'extract'"
     ]
    }
   ],
   "source": [
    "text = r.text\n",
    "text = lxml.etree.fromstring(text)\n",
    "text.xpath('//body')\n"
   ]
  },
  {
   "cell_type": "code",
   "execution_count": 7,
   "metadata": {
    "collapsed": false,
    "deletable": true,
    "editable": true
   },
   "outputs": [
    {
     "name": "stdout",
     "output_type": "stream",
     "text": [
      "No redirect.\n",
      "headers: {'Date': 'Mon, 13 Nov 2017 07:12:35 GMT', 'Content-Type': 'text/html; charset=utf-8', 'Transfer-Encoding': 'chunked', 'Connection': 'keep-alive', 'Set-Cookie': '__cfduid=d2a5640ca50ca57a5b22e1150561378d01510557154; expires=Tue, 13-Nov-18 07:12:34 GMT; path=/; domain=.apkpure.com; HttpOnly, _csrf=N755PBtJeRdU-f1H8YTe5PvK; Path=/', 'Vary': 'Accept-Language, Cookies', 'Cache-Control': 'no-cache, no-store, max-age=0, must-revalidate', 'Pragma': 'no-cache', 'Expires': '0', 'ETag': 'W/\"1343e-PeAIT2WcvL4yi4GlQjfpbpYzQXk\"', 'X-Response-Time': '70.688ms', 'Content-Encoding': 'gzip', 'Server': 'cloudflare-nginx', 'CF-RAY': '3bcfec696b8f7167-ORD'}\n",
      "content-type: text/html; charset=utf-8\n",
      "<a class=\"ga\" ga=\"download|com.facebook.orca|category_APK_1_COMMUNICATION\" href=\"https://download.apkpure.com/b/apk/Y29tLmZhY2Vib29rLm9yY2FfNzkwMDA3NjVfYTE3YjA2ODI?_fn=TWVzc2VuZ2VyIOKAkyBUZXh0IGFuZCBWaWRlbyBDaGF0IGZvciBGcmVlX3YxNDMuMC4wLjIwLjY5X2Fwa3B1cmUuY29tLmFwaw%3D%3D&amp;k=3b4dff45f579b35776267f98d309bd505a0be8e2&amp;as=4989bdb9d13d1074fd9622c1e20253875a09465a&amp;_p=Y29tLmZhY2Vib29rLm9yY2E%3D&amp;c=1%7CCOMMUNICATION\" id=\"download_link\" rel=\"nofollow\" title=\"Download Messenger – Text and Video Chat for Free latest version apk\">click here</a>\n",
      "https://download.apkpure.com/b/apk/Y29tLmZhY2Vib29rLm9yY2FfNzkwMDA3NjVfYTE3YjA2ODI?_fn=TWVzc2VuZ2VyIOKAkyBUZXh0IGFuZCBWaWRlbyBDaGF0IGZvciBGcmVlX3YxNDMuMC4wLjIwLjY5X2Fwa3B1cmUuY29tLmFwaw%3D%3D&k=3b4dff45f579b35776267f98d309bd505a0be8e2&as=4989bdb9d13d1074fd9622c1e20253875a09465a&_p=Y29tLmZhY2Vib29rLm9yY2E%3D&c=1%7CCOMMUNICATION\n",
      "[<Response [302]>]\n",
      "headers: {'Server': 'openresty', 'Date': 'Mon, 13 Nov 2017 07:12:36 GMT', 'Content-Type': 'application/vnd.android.package-archive', 'Content-Length': '62317728', 'Connection': 'keep-alive', 'Content-Disposition': 'attachment; filename=\"Messenger â\\x80\\x93 Text and Video Chat for Free_v143.0.0.20.69_apkpure.com.apk\"', 'Last-Modified': 'Wed, 08 Nov 2017 18:06:02 GMT', 'ETag': '\"1c8e1fdb6d822a10a8757bd18d8de2b0\"', 'Expires': 'Tue, 14 Nov 2017 07:12:36 GMT', 'Cache-Control': 'max-age=86400', 'X-Cache-Status': 'HIT', 'Accept-Ranges': 'bytes'}\n",
      "content-type: application/vnd.android.package-archive\n",
      "CPU times: user 108 ms, sys: 12 ms, total: 120 ms\n",
      "Wall time: 1.64 s\n"
     ]
    }
   ],
   "source": [
    "%%time\n",
    "#headers = {'User-Agent': 'Mozilla/5.0 (Macintosh; Intel Mac OS X 10_10_1) AppleWebKit/537.36 (KHTML, like Gecko) Chrome/39.0.2171.95 Safari/537.36'}\n",
    "url = 'https://apkpure.com/facebook-messenger/com.facebook.orca/download?from=category'\n",
    "session = requests.Session()\n",
    "session.headers.update(headers)\n",
    "\n",
    "\n",
    "r = session.get(url)\n",
    "if r.history:\n",
    "    print(r.history)\n",
    "else:\n",
    "    print('No redirect.')\n",
    "print('headers: ' + (str(r.headers)))\n",
    "print('content-type: ' + r.headers['content-type'])\n",
    "#print(r.text)\n",
    "soup = BeautifulSoup(r.text, \"html.parser\")\n",
    "download_link = soup.find(id = 'download_link')\n",
    "# with open('./requst_test.html', 'w') as f:\n",
    "#     #shutil.copyfileobj(r.raw, f)\n",
    "#     f.write(r.text)\n",
    "    \n",
    "print(download_link)\n",
    "print(download_link['href'])\n",
    "\n",
    "r = session.get(download_link['href'], stream=True)\n",
    "if r.history:\n",
    "    print(r.history)\n",
    "else:\n",
    "    print('No redirect.')\n",
    "print('headers: ' + (str(r.headers)))\n",
    "print('content-type: ' + r.headers['content-type'])\n",
    "#print('cookies:' + r.headers['cookie'])\n",
    "\n",
    "#with open('./request.apk', 'wb') as f:\n",
    "    #shutil.copyfileobj(r.raw, f)\n",
    "    \n",
    "session.close()\n",
    "\n"
   ]
  },
  {
   "cell_type": "code",
   "execution_count": 10,
   "metadata": {
    "collapsed": false,
    "deletable": true,
    "editable": true
   },
   "outputs": [
    {
     "data": {
      "text/plain": [
       "{'Date': 'Mon, 13 Nov 2017 07:12:35 GMT', 'Content-Type': 'text/html; charset=utf-8', 'Content-Length': '356', 'Connection': 'keep-alive', 'Location': 'https://d-01.winudf.com/b/apk/Y29tLmZhY2Vib29rLm9yY2FfNzkwMDA3NjVfYTE3YjA2ODI?_fn=TWVzc2VuZ2VyIOKAkyBUZXh0IGFuZCBWaWRlbyBDaGF0IGZvciBGcmVlX3YxNDMuMC4wLjIwLjY5X2Fwa3B1cmUuY29tLmFwaw&_p=Y29tLmZhY2Vib29rLm9yY2E%3D&as=4989bdb9d13d1074fd9622c1e20253875a09465a&c=1%7CCOMMUNICATION&k=7e26d8882da14b148ce0523c4c56b0745a0c327b', 'Server': 'cloudflare-nginx', 'CF-RAY': '3bcfec6bfca52555-ORD'}"
      ]
     },
     "execution_count": 10,
     "metadata": {},
     "output_type": "execute_result"
    }
   ],
   "source": [
    "r.history[0].headers"
   ]
  },
  {
   "cell_type": "code",
   "execution_count": 17,
   "metadata": {
    "collapsed": false,
    "deletable": true,
    "editable": true
   },
   "outputs": [
    {
     "data": {
      "text/plain": [
       "'a94a8fe5ccb19ba61c4c0873d391e987982fbbd3'"
      ]
     },
     "execution_count": 17,
     "metadata": {},
     "output_type": "execute_result"
    }
   ],
   "source": [
    "hashlib.sha1('test'.encode('utf-8')).hexdigest()"
   ]
  },
  {
   "cell_type": "code",
   "execution_count": null,
   "metadata": {
    "collapsed": true,
    "deletable": true,
    "editable": true
   },
   "outputs": [],
   "source": []
  }
 ],
 "metadata": {
  "kernelspec": {
   "display_name": "general",
   "language": "python",
   "name": "general"
  },
  "language_info": {
   "codemirror_mode": {
    "name": "ipython",
    "version": 3
   },
   "file_extension": ".py",
   "mimetype": "text/x-python",
   "name": "python",
   "nbconvert_exporter": "python",
   "pygments_lexer": "ipython3",
   "version": "3.6.2"
  }
 },
 "nbformat": 4,
 "nbformat_minor": 2
}
