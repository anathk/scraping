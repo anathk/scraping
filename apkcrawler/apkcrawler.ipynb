{
 "cells": [
  {
   "cell_type": "code",
   "execution_count": 1,
   "metadata": {
    "collapsed": false,
    "deletable": true,
    "editable": true
   },
   "outputs": [],
   "source": [
    "import re"
   ]
  },
  {
   "cell_type": "code",
   "execution_count": 3,
   "metadata": {
    "collapsed": false,
    "deletable": true,
    "editable": true
   },
   "outputs": [
    {
     "data": {
      "text/plain": [
       "{'CLICOLOR': '1',\n",
       " 'GIT_PAGER': 'cat',\n",
       " 'HOME': '/home/zchao',\n",
       " 'JPY_PARENT_PID': '2650',\n",
       " 'LANG': 'en_US.UTF-8',\n",
       " 'MPLBACKEND': 'module://ipykernel.pylab.backend_inline',\n",
       " 'PAGER': 'cat',\n",
       " 'PATH': '/usr/local/sbin:/usr/local/bin:/usr/sbin:/usr/bin:/sbin:/bin',\n",
       " 'SHELL': '/bin/bash',\n",
       " 'TERM': 'xterm-color',\n",
       " 'USER': 'zchao'}"
      ]
     },
     "execution_count": 3,
     "metadata": {},
     "output_type": "execute_result"
    }
   ],
   "source": [
    "%env\n"
   ]
  },
  {
   "cell_type": "code",
   "execution_count": 4,
   "metadata": {
    "collapsed": false,
    "deletable": true,
    "editable": true
   },
   "outputs": [
    {
     "name": "stdout",
     "output_type": "stream",
     "text": [
      "/bin/sh: 1: source: not found\r\n"
     ]
    }
   ],
   "source": [
    "!source activate general\n"
   ]
  },
  {
   "cell_type": "code",
   "execution_count": 5,
   "metadata": {
    "collapsed": false,
    "deletable": true,
    "editable": true
   },
   "outputs": [
    {
     "name": "stdout",
     "output_type": "stream",
     "text": [
      "/bin/bash\r\n"
     ]
    }
   ],
   "source": [
    "!echo $SHELL"
   ]
  },
  {
   "cell_type": "code",
   "execution_count": 2,
   "metadata": {
    "collapsed": false,
    "deletable": true,
    "editable": true
   },
   "outputs": [
    {
     "ename": "SyntaxError",
     "evalue": "invalid syntax (<ipython-input-2-e8741bb6dbf3>, line 1)",
     "output_type": "error",
     "traceback": [
      "\u001b[0;36m  File \u001b[0;32m\"<ipython-input-2-e8741bb6dbf3>\"\u001b[0;36m, line \u001b[0;32m1\u001b[0m\n\u001b[0;31m    html(/body/div[2]/div[2]/div/div[2]/div[2]/ul/li[1]/a)\u001b[0m\n\u001b[0m         ^\u001b[0m\n\u001b[0;31mSyntaxError\u001b[0m\u001b[0;31m:\u001b[0m invalid syntax\n"
     ]
    }
   ],
   "source": [
    "/html/body/div[2]/div[2]/div/div[2]/div[2]/ul/li[1]/a\n",
    "\n",
    "/html/body/div[2]/div[2]/div/div[2]/div[2]/ul/li[9]/a\n",
    "\n",
    "/html/body/div[2]/div[2]/div/div[2]/div[2]/ul/li[8]/a\n",
    "\n",
    "/html/body/div[2]/div[2]/div/div[2]/div[2]/ul/li/a"
   ]
  },
  {
   "cell_type": "code",
   "execution_count": 26,
   "metadata": {
    "collapsed": false,
    "deletable": true,
    "editable": true
   },
   "outputs": [
    {
     "name": "stdout",
     "output_type": "stream",
     "text": [
      "<_sre.SRE_Match object; span=(0, 15), match='/art_and_design'>\n"
     ]
    }
   ],
   "source": [
    "string = '/art_and_design'\n",
    "\n",
    "m = re.search('/[a-z_]{5,}', string)\n",
    "print(m)"
   ]
  },
  {
   "cell_type": "code",
   "execution_count": null,
   "metadata": {
    "collapsed": true,
    "deletable": true,
    "editable": true
   },
   "outputs": [],
   "source": []
  }
 ],
 "metadata": {
  "kernelspec": {
   "display_name": "general",
   "language": "python",
   "name": "general"
  },
  "language_info": {
   "codemirror_mode": {
    "name": "ipython",
    "version": 3
   },
   "file_extension": ".py",
   "mimetype": "text/x-python",
   "name": "python",
   "nbconvert_exporter": "python",
   "pygments_lexer": "ipython3",
   "version": "3.6.2"
  }
 },
 "nbformat": 4,
 "nbformat_minor": 2
}
