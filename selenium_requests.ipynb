{
 "cells": [
  {
   "cell_type": "code",
   "execution_count": 17,
   "metadata": {
    "collapsed": false,
    "deletable": true,
    "editable": true
   },
   "outputs": [
    {
     "name": "stdout",
     "output_type": "stream",
     "text": [
      "Finished loading libs.\n"
     ]
    }
   ],
   "source": [
    "from selenium.webdriver.common.by import By\n",
    "from selenium.webdriver.support.ui import WebDriverWait\n",
    "from selenium.webdriver.support import expected_conditions as EC\n",
    "from selenium import webdriver\n",
    "from selenium.webdriver.common.keys import Keys\n",
    "from selenium.webdriver.common.desired_capabilities import DesiredCapabilities\n",
    "import time\n",
    "import os\n",
    "\n",
    "import requests\n",
    "import shutil # high-level operations on files and collections of files\n",
    "from bs4 import BeautifulSoup\n",
    "from datetime import datetime\n",
    "\n",
    "print('Finished loading libs.')"
   ]
  },
  {
   "cell_type": "code",
   "execution_count": 2,
   "metadata": {
    "collapsed": false,
    "deletable": true,
    "editable": true
   },
   "outputs": [
    {
     "name": "stdout",
     "output_type": "stream",
     "text": [
      "https://download.apkpure.com/b/apk/Y29tLmZhY2Vib29rLm9yY2FfNzc4NjY5ODdfNGY0OWE5NjI?_fn=TWVzc2VuZ2VyIOKAkyBUZXh0IGFuZCBWaWRlbyBDaGF0IGZvciBGcmVlX3YxNDIuMC4wLjE4LjYzX2Fwa3B1cmUuY29tLmFwaw%3D%3D&k=0cecf975c8cf7e3382bbc4a5f66cd4fa5a05e733&as=2f6339417afc7957bbb1d43163b926355a0344ab&_p=Y29tLmZhY2Vib29rLm9yY2E%3D&c=1%7CCOMMUNICATION\n",
      "Done\n"
     ]
    }
   ],
   "source": [
    "PhantomJSPath = '~/software/phantomjs/bin/phantomjs'\n",
    "PhantomJSPath = os.path.expanduser(PhantomJSPath)\n",
    "url = 'https://apkpure.com/facebook-messenger/com.facebook.orca/download?from=category'\n",
    "\n",
    "dcap = dict(DesiredCapabilities.PHANTOMJS)\n",
    "dcap[\"phantomjs.page.settings.userAgent\"] = (\"Mozilla/5.0 (Macintosh; Intel Mac OS X 10_10_1) AppleWebKit/537.36 (KHTML, like Gecko) Chrome/38.0.2125.122 Safari/537.36\")\n",
    "\n",
    "\n",
    "driver = webdriver.PhantomJS(executable_path=PhantomJSPath, desired_capabilities=dcap, service_args=['--ignore-ssl-errors=true', '--ssl-protocol=any', '--web-security=false'])\n",
    "driver.set_window_size(1024, 768)\n",
    "\n",
    "\n",
    "driver.get(url)\n",
    "# Execute javascript.\n",
    "# driver.execute_script('document.getElementsByClassName(\"mp\")[0].style.background = \"green\"')\n",
    "\n",
    "# //*[@id=\"download_link\"]\n",
    "download_link = driver.find_element_by_xpath('//*[@id=\"download_link\"]')\n",
    "\n",
    "\n",
    "download_link.click()\n",
    "\n",
    "element = WebDriverWait(driver, 10).until(EC.presence_of_element_located((By.LINK_TEXT, \"click here\")))\n",
    "\n",
    "link = element.get_attribute('href')\n",
    "print(link)\n",
    "\n",
    "cookies = driver.get_cookies()\n",
    "\n",
    "s = requests.Session()\n",
    "for cookie in cookies:\n",
    "    s.cookies.set(cookie['name'], cookie['value'])\n",
    "\n",
    "r = s.get(link, stream=True)\n",
    "\n",
    "with open('./test.apk', 'wb') as f:\n",
    "    shutil.copyfileobj(r.raw, f)\n",
    "\n",
    "driver.save_screenshot('screen.png') \n",
    "driver.quit()\n",
    "\n",
    "print('Done')\n",
    "# Get html page source.\n",
    "# html = driver.page_source\n",
    "# print(html)"
   ]
  },
  {
   "cell_type": "code",
   "execution_count": 3,
   "metadata": {
    "collapsed": true,
    "deletable": true,
    "editable": true
   },
   "outputs": [],
   "source": [
    "#username_element = WebDriverWait(driver, 10).until(EC.presence_of_element_located((By.NAME, 'email')))"
   ]
  },
  {
   "cell_type": "code",
   "execution_count": 16,
   "metadata": {
    "collapsed": false,
    "deletable": true,
    "editable": true,
    "scrolled": true
   },
   "outputs": [
    {
     "name": "stdout",
     "output_type": "stream",
     "text": [
      "headers: {'Date': 'Sat, 11 Nov 2017 22:35:48 GMT', 'Content-Type': 'text/html; charset=utf-8', 'Transfer-Encoding': 'chunked', 'Connection': 'keep-alive', 'Set-Cookie': '__cfduid=d2c93b2ec36acbacac2a8cab5ae43a3011510439748; expires=Sun, 11-Nov-18 22:35:48 GMT; path=/; domain=.apkpure.com; HttpOnly, _csrf=ohT8Hp3XrvLcP-qdNsuRZpR_; Path=/', 'Vary': 'Accept-Language, Cookies', 'Cache-Control': 'no-cache, no-store, max-age=0, must-revalidate', 'Pragma': 'no-cache', 'Expires': '0', 'ETag': 'W/\"1343e-M3PzFiR+LJV0SvnfikGH+/kily8\"', 'X-Response-Time': '72.356ms', 'Content-Encoding': 'gzip', 'Server': 'cloudflare-nginx', 'CF-RAY': '3bc4ba0a69102519-ORD'}\n",
      "content-type: text/html; charset=utf-8\n",
      "<a class=\"ga\" ga=\"download|com.facebook.orca|category_APK_1_COMMUNICATION\" href=\"https://download.apkpure.com/b/apk/Y29tLmZhY2Vib29rLm9yY2FfNzkwMDA3NjVfYTE3YjA2ODI?_fn=TWVzc2VuZ2VyIOKAkyBUZXh0IGFuZCBWaWRlbyBDaGF0IGZvciBGcmVlX3YxNDMuMC4wLjIwLjY5X2Fwa3B1cmUuY29tLmFwaw%3D%3D&amp;k=6cf1995d9235d278f4573957bf6645205a0a1e44&amp;as=9e25645ca8013ec07f934893465862fd5a077bbc&amp;_p=Y29tLmZhY2Vib29rLm9yY2E%3D&amp;c=1%7CCOMMUNICATION\" id=\"download_link\" rel=\"nofollow\" title=\"Download Messenger – Text and Video Chat for Free latest version apk\">click here</a>\n",
      "https://download.apkpure.com/b/apk/Y29tLmZhY2Vib29rLm9yY2FfNzkwMDA3NjVfYTE3YjA2ODI?_fn=TWVzc2VuZ2VyIOKAkyBUZXh0IGFuZCBWaWRlbyBDaGF0IGZvciBGcmVlX3YxNDMuMC4wLjIwLjY5X2Fwa3B1cmUuY29tLmFwaw%3D%3D&k=6cf1995d9235d278f4573957bf6645205a0a1e44&as=9e25645ca8013ec07f934893465862fd5a077bbc&_p=Y29tLmZhY2Vib29rLm9yY2E%3D&c=1%7CCOMMUNICATION\n",
      "headers: {'Server': 'openresty', 'Date': 'Sat, 11 Nov 2017 22:35:50 GMT', 'Content-Type': 'application/vnd.android.package-archive', 'Content-Length': '62317728', 'Connection': 'keep-alive', 'Content-Disposition': 'attachment; filename=\"Messenger â\\x80\\x93 Text and Video Chat for Free_v143.0.0.20.69_apkpure.com.apk\"', 'Last-Modified': 'Wed, 08 Nov 2017 18:06:02 GMT', 'ETag': '\"1c8e1fdb6d822a10a8757bd18d8de2b0\"', 'Expires': 'Sun, 12 Nov 2017 22:35:50 GMT', 'Cache-Control': 'max-age=86400', 'X-Cache-Status': 'HIT', 'Accept-Ranges': 'bytes'}\n",
      "content-type: application/vnd.android.package-archive\n",
      "CPU times: user 120 ms, sys: 0 ns, total: 120 ms\n",
      "Wall time: 2.08 s\n"
     ]
    }
   ],
   "source": [
    "%%time\n",
    "headers = {'User-Agent': 'Mozilla/5.0 (Macintosh; Intel Mac OS X 10_10_1) AppleWebKit/537.36 (KHTML, like Gecko) Chrome/39.0.2171.95 Safari/537.36'}\n",
    "url = 'https://apkpure.com/facebook-messenger/com.facebook.orca/download?from=category'\n",
    "session = requests.Session()\n",
    "session.headers.update(headers)\n",
    "\n",
    "r = session.get(url, stream=True)\n",
    "print('headers: ' + (str(r.headers)))\n",
    "print('content-type: ' + r.headers['content-type'])\n",
    "#print(r.text)\n",
    "soup = BeautifulSoup(r.text, \"html.parser\")\n",
    "download_link = soup.find(id = 'download_link')\n",
    "# with open('./requst_test.html', 'w') as f:\n",
    "#     #shutil.copyfileobj(r.raw, f)\n",
    "#     f.write(r.text)\n",
    "    \n",
    "print(download_link)\n",
    "print(download_link['href'])\n",
    "\n",
    "r = session.get(download_link['href'], stream=True)\n",
    "print('headers: ' + (str(r.headers)))\n",
    "print('content-type: ' + r.headers['content-type'])\n",
    "#print('cookies:' + r.headers['cookie'])\n",
    "\n",
    "#with open('./request.apk', 'wb') as f:\n",
    "    #shutil.copyfileobj(r.raw, f)"
   ]
  },
  {
   "cell_type": "code",
   "execution_count": 19,
   "metadata": {
    "collapsed": false,
    "deletable": true,
    "editable": true
   },
   "outputs": [
    {
     "data": {
      "text/plain": [
       "'2017-11-11 20:53:35.874181'"
      ]
     },
     "execution_count": 19,
     "metadata": {},
     "output_type": "execute_result"
    }
   ],
   "source": [
    "str(datetime.now())"
   ]
  },
  {
   "cell_type": "code",
   "execution_count": 21,
   "metadata": {
    "collapsed": false,
    "deletable": true,
    "editable": true
   },
   "outputs": [],
   "source": [
    "import time\n",
    "now = time.time()\n",
    "\n",
    "later = time.time()\n",
    "difference = int(later - now)"
   ]
  },
  {
   "cell_type": "code",
   "execution_count": 22,
   "metadata": {
    "collapsed": false,
    "deletable": true,
    "editable": true
   },
   "outputs": [
    {
     "data": {
      "text/plain": [
       "0"
      ]
     },
     "execution_count": 22,
     "metadata": {},
     "output_type": "execute_result"
    }
   ],
   "source": [
    "difference"
   ]
  },
  {
   "cell_type": "code",
   "execution_count": 24,
   "metadata": {
    "collapsed": false,
    "deletable": true,
    "editable": true
   },
   "outputs": [],
   "source": [
    "a = 'https://d-01.winudf.com/b/apk/Y29tLmdyb3VuZGhvZy5tY3BlbWFzdGVyXzEwNDAxXzhlZWQzYjNj?_fn=TWFzdGVyIGZvciBNaW5lY3JhZnQgTGF1bmNoZXJfdjIuMS4yMF9hcGtwdXJlLmNvbS5hcGs&_p=Y29tLmdyb3VuZGhvZy5tY3BlbWFzdGVy&as=a9f4d74f74567e442caf24708a25a73a5a08e036&c=1%7CTOOLS&k=a5bead185e79127f967da508205b89585a0cb507'"
   ]
  },
  {
   "cell_type": "code",
   "execution_count": 25,
   "metadata": {
    "collapsed": true,
    "deletable": true,
    "editable": true
   },
   "outputs": [],
   "source": [
    "b = [a]"
   ]
  },
  {
   "cell_type": "code",
   "execution_count": 26,
   "metadata": {
    "collapsed": false,
    "deletable": true,
    "editable": true
   },
   "outputs": [
    {
     "data": {
      "text/plain": [
       "['https://d-01.winudf.com/b/apk/Y29tLmdyb3VuZGhvZy5tY3BlbWFzdGVyXzEwNDAxXzhlZWQzYjNj?_fn=TWFzdGVyIGZvciBNaW5lY3JhZnQgTGF1bmNoZXJfdjIuMS4yMF9hcGtwdXJlLmNvbS5hcGs&_p=Y29tLmdyb3VuZGhvZy5tY3BlbWFzdGVy&as=a9f4d74f74567e442caf24708a25a73a5a08e036&c=1%7CTOOLS&k=a5bead185e79127f967da508205b89585a0cb507']"
      ]
     },
     "execution_count": 26,
     "metadata": {},
     "output_type": "execute_result"
    }
   ],
   "source": [
    "b"
   ]
  },
  {
   "cell_type": "code",
   "execution_count": 27,
   "metadata": {
    "collapsed": false,
    "deletable": true,
    "editable": true
   },
   "outputs": [
    {
     "name": "stdout",
     "output_type": "stream",
     "text": [
      "<class 'bytes'>\n",
      "<class 'str'>\n"
     ]
    }
   ],
   "source": [
    "my_str = \"hello world\"\n",
    "my_str_as_bytes = str.encode(my_str)\n",
    "print(type(my_str_as_bytes)) # ensure it is byte representation\n",
    "my_decoded_str = my_str_as_bytes.decode()\n",
    "print(type(my_decoded_str)) # ensure it is string representation"
   ]
  },
  {
   "cell_type": "code",
   "execution_count": 28,
   "metadata": {
    "collapsed": true,
    "deletable": true,
    "editable": true
   },
   "outputs": [],
   "source": [
    "test = my_str.encode('utf-8')"
   ]
  },
  {
   "cell_type": "code",
   "execution_count": 29,
   "metadata": {
    "collapsed": false,
    "deletable": true,
    "editable": true
   },
   "outputs": [
    {
     "data": {
      "text/plain": [
       "bytes"
      ]
     },
     "execution_count": 29,
     "metadata": {},
     "output_type": "execute_result"
    }
   ],
   "source": [
    "type(test)"
   ]
  },
  {
   "cell_type": "code",
   "execution_count": 31,
   "metadata": {
    "collapsed": false,
    "deletable": true,
    "editable": true
   },
   "outputs": [
    {
     "name": "stdout",
     "output_type": "stream",
     "text": [
      "test?page=0\n",
      "test?page=1\n",
      "test?page=2\n",
      "test?page=3\n",
      "test?page=4\n"
     ]
    }
   ],
   "source": [
    "test = 'test'\n",
    "\n",
    "for i in range(5): \n",
    "    test1 = test + '?page=' + str(i)\n",
    "    print(test1)"
   ]
  },
  {
   "cell_type": "code",
   "execution_count": null,
   "metadata": {
    "collapsed": true
   },
   "outputs": [],
   "source": []
  }
 ],
 "metadata": {
  "kernelspec": {
   "display_name": "general",
   "language": "python",
   "name": "general"
  },
  "language_info": {
   "codemirror_mode": {
    "name": "ipython",
    "version": 3
   },
   "file_extension": ".py",
   "mimetype": "text/x-python",
   "name": "python",
   "nbconvert_exporter": "python",
   "pygments_lexer": "ipython3",
   "version": "3.6.2"
  }
 },
 "nbformat": 4,
 "nbformat_minor": 2
}
